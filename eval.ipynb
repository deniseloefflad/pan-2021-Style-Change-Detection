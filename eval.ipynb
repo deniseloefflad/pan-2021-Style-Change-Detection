{
 "metadata": {
  "language_info": {
   "codemirror_mode": {
    "name": "ipython",
    "version": 3
   },
   "file_extension": ".py",
   "mimetype": "text/x-python",
   "name": "python",
   "nbconvert_exporter": "python",
   "pygments_lexer": "ipython3",
   "version": "3.8.9"
  },
  "orig_nbformat": 2,
  "kernelspec": {
   "name": "python389jvsc74a57bd0be4254f328ae1375cca28a8f1f3d4506579f39c71d95f5fb35b954f5819eacea",
   "display_name": "Python 3.8.9 64-bit ('style-change-detection': venv)"
  }
 },
 "nbformat": 4,
 "nbformat_minor": 2,
 "cells": [
  {
   "cell_type": "code",
   "execution_count": 7,
   "metadata": {},
   "outputs": [],
   "source": [
    "import os\n",
    "import sys\n",
    "import json\n",
    "import numpy as np\n",
    "from style_change_detection import *"
   ]
  },
  {
   "cell_type": "code",
   "execution_count": 8,
   "metadata": {},
   "outputs": [],
   "source": [
    "def read_solutions(folder):\n",
    "    solutions = {}\n",
    "    files = os.listdir(folder)\n",
    "    for sol_file in files:\n",
    "        if sol_file.endswith(\".json\"):\n",
    "            soltion_id = int(sol_file.split('.')[0].split('-')[-1])\n",
    "            solution = {}\n",
    "            with open(os.path.join(folder, sol_file), 'r', encoding='utf-8') as f:\n",
    "                solution = json.load(f)\n",
    "                solutions[soltion_id] = solution\n",
    "    return solutions"
   ]
  },
  {
   "cell_type": "code",
   "execution_count": 25,
   "metadata": {
    "tags": []
   },
   "outputs": [],
   "source": [
    "solutions_truth = read_solutions('./validation')\n",
    "predictions = read_solutions('val_output')\n",
    "\n",
    "target = 'multi-author'"
   ]
  },
  {
   "cell_type": "code",
   "execution_count": 10,
   "metadata": {},
   "outputs": [],
   "source": [
    "from networks import evaluate\n",
    "from style_change_detection import scores"
   ]
  },
  {
   "cell_type": "code",
   "execution_count": 20,
   "metadata": {},
   "outputs": [
    {
     "output_type": "execute_result",
     "data": {
      "text/plain": [
       "{'authors': 3,\n",
       " 'structure': [86550, 115651, 86550, 140403],\n",
       " 'site': 'superuser.com.7z',\n",
       " 'multi-author': 1,\n",
       " 'changes': [1, 1, 0, 1],\n",
       " 'paragraph-authors': [1, 2, 1, 1, 3]}"
      ]
     },
     "metadata": {},
     "execution_count": 20
    }
   ],
   "source": []
  },
  {
   "cell_type": "code",
   "execution_count": 24,
   "metadata": {},
   "outputs": [
    {
     "output_type": "stream",
     "name": "stdout",
     "text": [
      "24\n"
     ]
    }
   ],
   "source": [
    "val_sol = read_solutions('train')\n",
    "mx = 0\n",
    "sec_mx = 0\n",
    "trd_mx = 0\n",
    "\n",
    "for num in val_sol:\n",
    "    if len(val_sol[num]['changes']) > mx:\n",
    "        trd_mx = sec_mx\n",
    "        sec_mx = mx\n",
    "        mx = len(val_sol[num]['changes'])\n",
    "\n",
    "print(trd_mx)"
   ]
  }
 ]
}